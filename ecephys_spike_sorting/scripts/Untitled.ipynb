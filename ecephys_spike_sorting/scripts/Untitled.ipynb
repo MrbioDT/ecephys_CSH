{
 "cells": [
  {
   "cell_type": "code",
   "execution_count": 1,
   "id": "50d5bd09-c7ec-41e3-bcd8-422fcb17a446",
   "metadata": {},
   "outputs": [
    {
     "name": "stdout",
     "output_type": "stream",
     "text": [
      "Creating json file for CatGT on probe: 0\n",
      "C:\\SGL_DATA\\Noisetesting2_g0\\Noisetesting2_g0_imec0\\Noisetesting2_g0_t0.imec0.ap.meta\n",
      "SpikeGLX params read from meta\n",
      "probe type: NP1, sample_rate: 30000.00000, num_channels: 385, uVPerBit: 2.3438\n",
      "ks_nNeighbors: 32\n",
      "C:\\SGL_DATA\\noisetesting2_g0\\test_events\\catgt_Noisetesting2_g0\\Noisetesting2_g0_imec0\n",
      "C:\\SGL_DATA\\noisetesting2_g0\\test_events\\catgt_Noisetesting2_g0\\Noisetesting2_g0_imec0\\Noisetesting2_g0_tcat.imec0.ap.bin\n",
      "ks_Th: '[10,4]' ,refPerMS: 1.0\n",
      "SpikeGLX params read from meta\n",
      "probe type: NP1, sample_rate: 30000.00000, num_channels: 385, uVPerBit: 2.3438\n",
      "ks_nNeighbors: 32\n",
      "C:\\Users\\Z8 G4\\.conda\\envs\\ks4_ece\\python.exe -W ignore -m ecephys_spike_sorting.modules.catGT_helper --input_json C:\\SGL_DATA\\json_files\\Noisetesting20_CatGT-input.json --output_json C:\\SGL_DATA\\json_files\\Noisetesting20_CatGT-output.json\n"
     ]
    },
    {
     "ename": "CalledProcessError",
     "evalue": "Command '['C:\\\\Users\\\\Z8', 'G4\\\\.conda\\\\envs\\\\ks4_ece\\\\python.exe', '-W', 'ignore', '-m', 'ecephys_spike_sorting.modules.catGT_helper', '--input_json', 'C:\\\\SGL_DATA\\\\json_files\\\\Noisetesting20_CatGT-input.json', '--output_json', 'C:\\\\SGL_DATA\\\\json_files\\\\Noisetesting20_CatGT-output.json']' returned non-zero exit status 1.",
     "output_type": "error",
     "traceback": [
      "\u001b[1;31m---------------------------------------------------------------------------\u001b[0m",
      "\u001b[1;31mCalledProcessError\u001b[0m                        Traceback (most recent call last)",
      "File \u001b[1;32m~\\ecephys_CSH\\ecephys_spike_sorting\\scripts\\sglx_multi_run_pipeline.py:347\u001b[0m\n\u001b[0;32m    341\u001b[0m     \u001b[38;5;66;03m# copy json file to data directory as record of the input parameters \u001b[39;00m\n\u001b[0;32m    342\u001b[0m    \n\u001b[0;32m    343\u001b[0m     \n\u001b[0;32m    344\u001b[0m \u001b[38;5;66;03m# loop over probes for processing.    \u001b[39;00m\n\u001b[0;32m    345\u001b[0m \u001b[38;5;28;01mfor\u001b[39;00m i, prb \u001b[38;5;129;01min\u001b[39;00m \u001b[38;5;28menumerate\u001b[39m(prb_list):  \n\u001b[1;32m--> 347\u001b[0m     \u001b[43mrun_one_probe\u001b[49m\u001b[38;5;241;43m.\u001b[39;49m\u001b[43mrunOne\u001b[49m\u001b[43m(\u001b[49m\u001b[43m \u001b[49m\u001b[43msession_id\u001b[49m\u001b[43m[\u001b[49m\u001b[43mi\u001b[49m\u001b[43m]\u001b[49m\u001b[43m,\u001b[49m\n\u001b[0;32m    348\u001b[0m \u001b[43m             \u001b[49m\u001b[43mjson_directory\u001b[49m\u001b[43m,\u001b[49m\n\u001b[0;32m    349\u001b[0m \u001b[43m             \u001b[49m\u001b[43mdata_directory\u001b[49m\u001b[43m[\u001b[49m\u001b[43mi\u001b[49m\u001b[43m]\u001b[49m\u001b[43m,\u001b[49m\n\u001b[0;32m    350\u001b[0m \u001b[43m             \u001b[49m\u001b[43mrun_CatGT\u001b[49m\u001b[43m,\u001b[49m\n\u001b[0;32m    351\u001b[0m \u001b[43m             \u001b[49m\u001b[43mcatGT_input_json\u001b[49m\u001b[43m[\u001b[49m\u001b[43mi\u001b[49m\u001b[43m]\u001b[49m\u001b[43m,\u001b[49m\n\u001b[0;32m    352\u001b[0m \u001b[43m             \u001b[49m\u001b[43mcatGT_output_json\u001b[49m\u001b[43m[\u001b[49m\u001b[43mi\u001b[49m\u001b[43m]\u001b[49m\u001b[43m,\u001b[49m\n\u001b[0;32m    353\u001b[0m \u001b[43m             \u001b[49m\u001b[43mmodules\u001b[49m\u001b[43m,\u001b[49m\n\u001b[0;32m    354\u001b[0m \u001b[43m             \u001b[49m\u001b[43mmodule_input_json\u001b[49m\u001b[43m[\u001b[49m\u001b[43mi\u001b[49m\u001b[43m]\u001b[49m\u001b[43m,\u001b[49m\n\u001b[0;32m    355\u001b[0m \u001b[43m             \u001b[49m\u001b[43mlogFullPath\u001b[49m\u001b[43m \u001b[49m\u001b[43m)\u001b[49m\n\u001b[0;32m    358\u001b[0m \u001b[38;5;28;01mif\u001b[39;00m runTPrime:\n\u001b[0;32m    359\u001b[0m     \u001b[38;5;66;03m# after loop over probes, run TPrime to create files of \u001b[39;00m\n\u001b[0;32m    360\u001b[0m     \u001b[38;5;66;03m# event times -- edges detected in auxialliary files and spike times \u001b[39;00m\n\u001b[0;32m    361\u001b[0m     \u001b[38;5;66;03m# from each probe -- all aligned to a reference stream.\u001b[39;00m\n\u001b[0;32m    362\u001b[0m \n\u001b[0;32m    363\u001b[0m     \u001b[38;5;66;03m# create json files for calling TPrime\u001b[39;00m\n\u001b[0;32m    364\u001b[0m     session_id \u001b[38;5;241m=\u001b[39m spec[\u001b[38;5;241m0\u001b[39m] \u001b[38;5;241m+\u001b[39m \u001b[38;5;124m'\u001b[39m\u001b[38;5;124m_TPrime\u001b[39m\u001b[38;5;124m'\u001b[39m\n",
      "File \u001b[1;32m~\\ecephys_CSH\\ecephys_spike_sorting\\scripts\\helpers\\run_one_probe.py:26\u001b[0m, in \u001b[0;36mrunOne\u001b[1;34m(session_id, json_directory, data_directory, run_CatGT, catGT_input_json, catGT_output_json, modules, module_input_json, logFullPath)\u001b[0m\n\u001b[0;32m     23\u001b[0m         command \u001b[38;5;241m=\u001b[39m sys\u001b[38;5;241m.\u001b[39mexecutable \u001b[38;5;241m+\u001b[39m \u001b[38;5;124m\"\u001b[39m\u001b[38;5;124m -W ignore -m ecephys_spike_sorting.modules.\u001b[39m\u001b[38;5;124m\"\u001b[39m \u001b[38;5;241m+\u001b[39m \u001b[38;5;124m'\u001b[39m\u001b[38;5;124mcatGT_helper\u001b[39m\u001b[38;5;124m'\u001b[39m \u001b[38;5;241m+\u001b[39m \u001b[38;5;124m\"\u001b[39m\u001b[38;5;124m --input_json \u001b[39m\u001b[38;5;124m\"\u001b[39m \u001b[38;5;241m+\u001b[39m catGT_input_json \\\n\u001b[0;32m     24\u001b[0m \t\t          \u001b[38;5;241m+\u001b[39m \u001b[38;5;124m\"\u001b[39m\u001b[38;5;124m --output_json \u001b[39m\u001b[38;5;124m\"\u001b[39m \u001b[38;5;241m+\u001b[39m catGT_output_json\n\u001b[0;32m     25\u001b[0m         \u001b[38;5;28mprint\u001b[39m(command)\n\u001b[1;32m---> 26\u001b[0m         \u001b[43msubprocess\u001b[49m\u001b[38;5;241;43m.\u001b[39;49m\u001b[43mcheck_call\u001b[49m\u001b[43m(\u001b[49m\u001b[43mcommand\u001b[49m\u001b[38;5;241;43m.\u001b[39;49m\u001b[43msplit\u001b[49m\u001b[43m(\u001b[49m\u001b[38;5;124;43m'\u001b[39;49m\u001b[38;5;124;43m \u001b[39;49m\u001b[38;5;124;43m'\u001b[39;49m\u001b[43m)\u001b[49m\u001b[43m)\u001b[49m  \n\u001b[0;32m     28\u001b[0m     \u001b[38;5;66;03m# copy module json file to data directory as record of the input parameters \u001b[39;00m\n\u001b[0;32m     29\u001b[0m     shutil\u001b[38;5;241m.\u001b[39mcopy(module_input_json, os\u001b[38;5;241m.\u001b[39mpath\u001b[38;5;241m.\u001b[39mjoin(data_directory, session_id \u001b[38;5;241m+\u001b[39m \u001b[38;5;124m'\u001b[39m\u001b[38;5;124m-input.json\u001b[39m\u001b[38;5;124m'\u001b[39m))\n",
      "File \u001b[1;32m~\\.conda\\envs\\ks4_ece\\lib\\subprocess.py:373\u001b[0m, in \u001b[0;36mcheck_call\u001b[1;34m(*popenargs, **kwargs)\u001b[0m\n\u001b[0;32m    371\u001b[0m     \u001b[38;5;28;01mif\u001b[39;00m cmd \u001b[38;5;129;01mis\u001b[39;00m \u001b[38;5;28;01mNone\u001b[39;00m:\n\u001b[0;32m    372\u001b[0m         cmd \u001b[38;5;241m=\u001b[39m popenargs[\u001b[38;5;241m0\u001b[39m]\n\u001b[1;32m--> 373\u001b[0m     \u001b[38;5;28;01mraise\u001b[39;00m CalledProcessError(retcode, cmd)\n\u001b[0;32m    374\u001b[0m \u001b[38;5;28;01mreturn\u001b[39;00m \u001b[38;5;241m0\u001b[39m\n",
      "\u001b[1;31mCalledProcessError\u001b[0m: Command '['C:\\\\Users\\\\Z8', 'G4\\\\.conda\\\\envs\\\\ks4_ece\\\\python.exe', '-W', 'ignore', '-m', 'ecephys_spike_sorting.modules.catGT_helper', '--input_json', 'C:\\\\SGL_DATA\\\\json_files\\\\Noisetesting20_CatGT-input.json', '--output_json', 'C:\\\\SGL_DATA\\\\json_files\\\\Noisetesting20_CatGT-output.json']' returned non-zero exit status 1."
     ]
    }
   ],
   "source": [
    "%load_ext autoreload\n",
    "%autoreload 2\n",
    "\n",
    "import sys\n",
    "import os\n",
    "# Get absolute path without using '~'\n",
    "home = os.path.expanduser('~')\n",
    "full_path = os.path.join(home, 'ecephys_CSH/ecephys_spike_sorting/scripts')\n",
    "sys.path.insert(0, full_path)\n",
    "\n",
    "%run ~/ecephys_CSH/ecephys_spike_sorting/scripts/create_input_json.py\n",
    "%run ~/ecephys_CSH/ecephys_spike_sorting/scripts/sglx_multi_run_pipeline.py"
   ]
  },
  {
   "cell_type": "code",
   "execution_count": 2,
   "id": "ba030ade-fe97-4cb4-abef-fcffbf6b6e0e",
   "metadata": {},
   "outputs": [
    {
     "ename": "AttributeError",
     "evalue": "module 'ecephys_spike_sorting.modules.catGT_helper' has no attribute '__version__'",
     "output_type": "error",
     "traceback": [
      "\u001b[1;31m---------------------------------------------------------------------------\u001b[0m",
      "\u001b[1;31mAttributeError\u001b[0m                            Traceback (most recent call last)",
      "Cell \u001b[1;32mIn[2], line 2\u001b[0m\n\u001b[0;32m      1\u001b[0m \u001b[38;5;28;01mfrom\u001b[39;00m \u001b[38;5;21;01mecephys_spike_sorting\u001b[39;00m\u001b[38;5;21;01m.\u001b[39;00m\u001b[38;5;21;01mmodules\u001b[39;00m \u001b[38;5;28;01mimport\u001b[39;00m catGT_helper\n\u001b[1;32m----> 2\u001b[0m \u001b[38;5;28mprint\u001b[39m(\u001b[43mcatGT_helper\u001b[49m\u001b[38;5;241;43m.\u001b[39;49m\u001b[43m__version__\u001b[49m)\n",
      "\u001b[1;31mAttributeError\u001b[0m: module 'ecephys_spike_sorting.modules.catGT_helper' has no attribute '__version__'"
     ]
    }
   ],
   "source": [
    "from ecephys_spike_sorting.modules import catGT_helper\n",
    "print(catGT_helper.__version__)\n"
   ]
  },
  {
   "cell_type": "code",
   "execution_count": 3,
   "id": "ffa686ab-1968-4e80-9dbd-9c482a72628d",
   "metadata": {},
   "outputs": [
    {
     "data": {
      "text/plain": [
       "'0.1.0'"
      ]
     },
     "execution_count": 3,
     "metadata": {},
     "output_type": "execute_result"
    }
   ],
   "source": [
    "from importlib.metadata import version\n",
    "version('ecephys_spike_sorting')\n"
   ]
  },
  {
   "cell_type": "code",
   "execution_count": null,
   "id": "6443360e-6685-4545-b9c6-04d5a60e58c0",
   "metadata": {},
   "outputs": [],
   "source": []
  }
 ],
 "metadata": {
  "kernelspec": {
   "display_name": "Python 3 (ipykernel)",
   "language": "python",
   "name": "python3"
  },
  "language_info": {
   "codemirror_mode": {
    "name": "ipython",
    "version": 3
   },
   "file_extension": ".py",
   "mimetype": "text/x-python",
   "name": "python",
   "nbconvert_exporter": "python",
   "pygments_lexer": "ipython3",
   "version": "3.9.21"
  }
 },
 "nbformat": 4,
 "nbformat_minor": 5
}
